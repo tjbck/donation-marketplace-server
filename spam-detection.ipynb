{
 "cells": [
  {
   "cell_type": "markdown",
   "id": "0aa568e1",
   "metadata": {},
   "source": [
    "## Import all required libraries"
   ]
  },
  {
   "cell_type": "code",
   "execution_count": 1,
   "id": "28d2e9a7",
   "metadata": {},
   "outputs": [],
   "source": [
    "import pickle\n",
    "import pandas as pd\n",
    "import numpy as np\n",
    "from sklearn.feature_extraction.text import CountVectorizer\n",
    "from sklearn.model_selection import train_test_split\n",
    "from sklearn.naive_bayes import MultinomialNB"
   ]
  },
  {
   "cell_type": "markdown",
   "id": "88f12004",
   "metadata": {},
   "source": [
    "## Load Dataset from File"
   ]
  },
  {
   "cell_type": "code",
   "execution_count": null,
   "id": "4a025e2e",
   "metadata": {},
   "outputs": [],
   "source": [
    "data = pd.read_csv(\"./spam-dataset.csv\", encoding= 'latin-1')\n",
    "data.head()"
   ]
  },
  {
   "cell_type": "markdown",
   "id": "81f10ed2",
   "metadata": {},
   "source": [
    "## Verify dataset is correctly labeled"
   ]
  },
  {
   "cell_type": "code",
   "execution_count": null,
   "id": "19bb1075",
   "metadata": {},
   "outputs": [],
   "source": [
    "print(data[data['class'] == 'spam'].head()['message'])\n",
    "print(data[data['class'] == 'ham'].head()['message'])"
   ]
  },
  {
   "cell_type": "markdown",
   "id": "abf0f051",
   "metadata": {},
   "source": [
    "## Set Feature as 'x' and Label as 'y'"
   ]
  },
  {
   "cell_type": "code",
   "execution_count": null,
   "id": "2d2bcdfa",
   "metadata": {},
   "outputs": [],
   "source": [
    "x = np.array(data[\"message\"])\n",
    "y = np.array(data[\"class\"])"
   ]
  },
  {
   "cell_type": "markdown",
   "id": "f0302b3f",
   "metadata": {},
   "source": [
    "## Using CountVectorizer to Vectorize Input Feature Texts"
   ]
  },
  {
   "cell_type": "code",
   "execution_count": null,
   "id": "58a578c8",
   "metadata": {},
   "outputs": [],
   "source": [
    "cv = CountVectorizer()\n",
    "X = cv.fit_transform(x)"
   ]
  },
  {
   "cell_type": "markdown",
   "id": "8cfa4256",
   "metadata": {},
   "source": [
    "## Split Vectorized Dataset and Fit to Model"
   ]
  },
  {
   "cell_type": "code",
   "execution_count": null,
   "id": "118646b6",
   "metadata": {},
   "outputs": [],
   "source": [
    "X_train, X_test, y_train, y_test = train_test_split(X, y, test_size=0.33, random_state=42)\n",
    "model = MultinomialNB()\n",
    "model.fit(X_train,y_train)"
   ]
  },
  {
   "cell_type": "markdown",
   "id": "d46bc070",
   "metadata": {},
   "source": [
    "## Export CountVectorizer and Model"
   ]
  },
  {
   "cell_type": "code",
   "execution_count": null,
   "id": "91e7fba3",
   "metadata": {},
   "outputs": [],
   "source": [
    "pickle.dump(cv, open(\"./cv.pickle\", \"wb\"))\n",
    "pickle.dump(model, open(f'./spam-detection-model.sav', 'wb'))"
   ]
  },
  {
   "cell_type": "markdown",
   "id": "08ee52ad",
   "metadata": {},
   "source": [
    "## Import CountVectorizer and Model From Saved Files"
   ]
  },
  {
   "cell_type": "code",
   "execution_count": 2,
   "id": "f884d7d0",
   "metadata": {},
   "outputs": [],
   "source": [
    "cv = pickle.load(open(f'./cv.pickle', 'rb'))\n",
    "model = pickle.load(open(f'./spam-detection-model.sav', 'rb'))"
   ]
  },
  {
   "cell_type": "markdown",
   "id": "cf1ba672",
   "metadata": {},
   "source": [
    "## Test Model with Sample Text"
   ]
  },
  {
   "cell_type": "markdown",
   "id": "a08de2e8",
   "metadata": {},
   "source": [
    "### Non-spam Text Example"
   ]
  },
  {
   "cell_type": "code",
   "execution_count": 3,
   "id": "ab617571",
   "metadata": {},
   "outputs": [
    {
     "name": "stdout",
     "output_type": "stream",
     "text": [
      "['ham']\n"
     ]
    }
   ],
   "source": [
    "text = \"\"\"\n",
    "FREE DONATION GIVEAWAY\n",
    "Need gone\n",
    "works good\n",
    "Just smashed on the back other then that it’s works completely fine\n",
    "Open sim\n",
    "£80-100\"\"\"\n",
    "text = text.replace('\\n',' ')\n",
    "\n",
    "vectorised_input = cv.transform([text]).toarray()\n",
    "print(model.predict(vectorised_input))"
   ]
  },
  {
   "cell_type": "code",
   "execution_count": 4,
   "id": "94f660fe",
   "metadata": {},
   "outputs": [
    {
     "name": "stdout",
     "output_type": "stream",
     "text": [
      "['ham']\n"
     ]
    }
   ],
   "source": [
    "text = \"\"\"Garden items for free works just fine\n",
    "Small drawers\n",
    "39/40, height 61cm\"\"\"\n",
    "text = text.replace('\\n',' ')\n",
    "\n",
    "vectorised_input = cv.transform([text]).toarray()\n",
    "print(model.predict(vectorised_input))"
   ]
  },
  {
   "cell_type": "markdown",
   "id": "f2205f74",
   "metadata": {},
   "source": [
    "### Spam Text Example"
   ]
  },
  {
   "cell_type": "code",
   "execution_count": 5,
   "id": "fbb9a28a",
   "metadata": {},
   "outputs": [
    {
     "name": "stdout",
     "output_type": "stream",
     "text": [
      "['spam']\n"
     ]
    }
   ],
   "source": [
    "text = \"\"\"\n",
    "FREE GIVEAWAY\n",
    "Call 070239381 CODE FREENOW\n",
    "If you sign up now you will win a 1000$ prize GUARANTEED. \n",
    "FREE GIVEAWAY\n",
    "Call 070239381 CODE FREENOW\n",
    "If you sign up now you will win a 1000$ prize GUARANTEED. \n",
    "FREE GIVEAWAY\n",
    "Call 070239381 CODE FREENOW\n",
    "If you sign up now you will win a 1000$ prize GUARANTEED. \n",
    "\"\"\"\n",
    "text = text.replace('\\n',' ')\n",
    "\n",
    "vectorised_input = cv.transform([text]).toarray()\n",
    "print(model.predict(vectorised_input))"
   ]
  },
  {
   "cell_type": "code",
   "execution_count": null,
   "id": "df736f8a",
   "metadata": {},
   "outputs": [],
   "source": []
  }
 ],
 "metadata": {
  "kernelspec": {
   "display_name": "Python 3 (ipykernel)",
   "language": "python",
   "name": "python3"
  },
  "language_info": {
   "codemirror_mode": {
    "name": "ipython",
    "version": 3
   },
   "file_extension": ".py",
   "mimetype": "text/x-python",
   "name": "python",
   "nbconvert_exporter": "python",
   "pygments_lexer": "ipython3",
   "version": "3.8.13"
  }
 },
 "nbformat": 4,
 "nbformat_minor": 5
}
