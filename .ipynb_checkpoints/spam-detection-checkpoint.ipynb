{
 "cells": [
  {
   "cell_type": "markdown",
   "id": "0aa568e1",
   "metadata": {},
   "source": [
    "## Import all required libraries"
   ]
  },
  {
   "cell_type": "code",
   "execution_count": 9,
   "id": "28d2e9a7",
   "metadata": {},
   "outputs": [],
   "source": [
    "import pickle\n",
    "import pandas as pd\n",
    "import numpy as np\n",
    "from sklearn.feature_extraction.text import CountVectorizer\n",
    "from sklearn.model_selection import train_test_split\n",
    "from sklearn.naive_bayes import MultinomialNB"
   ]
  },
  {
   "cell_type": "markdown",
   "id": "88f12004",
   "metadata": {},
   "source": [
    "## Load Dataset from File"
   ]
  },
  {
   "cell_type": "code",
   "execution_count": 39,
   "id": "4a025e2e",
   "metadata": {},
   "outputs": [
    {
     "data": {
      "text/html": [
       "<div>\n",
       "<style scoped>\n",
       "    .dataframe tbody tr th:only-of-type {\n",
       "        vertical-align: middle;\n",
       "    }\n",
       "\n",
       "    .dataframe tbody tr th {\n",
       "        vertical-align: top;\n",
       "    }\n",
       "\n",
       "    .dataframe thead th {\n",
       "        text-align: right;\n",
       "    }\n",
       "</style>\n",
       "<table border=\"1\" class=\"dataframe\">\n",
       "  <thead>\n",
       "    <tr style=\"text-align: right;\">\n",
       "      <th></th>\n",
       "      <th>class</th>\n",
       "      <th>message</th>\n",
       "      <th>Unnamed: 2</th>\n",
       "      <th>Unnamed: 3</th>\n",
       "      <th>Unnamed: 4</th>\n",
       "    </tr>\n",
       "  </thead>\n",
       "  <tbody>\n",
       "    <tr>\n",
       "      <th>0</th>\n",
       "      <td>ham</td>\n",
       "      <td>Go until jurong point, crazy.. Available only ...</td>\n",
       "      <td>NaN</td>\n",
       "      <td>NaN</td>\n",
       "      <td>NaN</td>\n",
       "    </tr>\n",
       "    <tr>\n",
       "      <th>1</th>\n",
       "      <td>ham</td>\n",
       "      <td>Ok lar... Joking wif u oni...</td>\n",
       "      <td>NaN</td>\n",
       "      <td>NaN</td>\n",
       "      <td>NaN</td>\n",
       "    </tr>\n",
       "    <tr>\n",
       "      <th>2</th>\n",
       "      <td>spam</td>\n",
       "      <td>Free entry in 2 a wkly comp to win FA Cup fina...</td>\n",
       "      <td>NaN</td>\n",
       "      <td>NaN</td>\n",
       "      <td>NaN</td>\n",
       "    </tr>\n",
       "    <tr>\n",
       "      <th>3</th>\n",
       "      <td>ham</td>\n",
       "      <td>U dun say so early hor... U c already then say...</td>\n",
       "      <td>NaN</td>\n",
       "      <td>NaN</td>\n",
       "      <td>NaN</td>\n",
       "    </tr>\n",
       "    <tr>\n",
       "      <th>4</th>\n",
       "      <td>ham</td>\n",
       "      <td>Nah I don't think he goes to usf, he lives aro...</td>\n",
       "      <td>NaN</td>\n",
       "      <td>NaN</td>\n",
       "      <td>NaN</td>\n",
       "    </tr>\n",
       "  </tbody>\n",
       "</table>\n",
       "</div>"
      ],
      "text/plain": [
       "  class                                            message Unnamed: 2  \\\n",
       "0   ham  Go until jurong point, crazy.. Available only ...        NaN   \n",
       "1   ham                      Ok lar... Joking wif u oni...        NaN   \n",
       "2  spam  Free entry in 2 a wkly comp to win FA Cup fina...        NaN   \n",
       "3   ham  U dun say so early hor... U c already then say...        NaN   \n",
       "4   ham  Nah I don't think he goes to usf, he lives aro...        NaN   \n",
       "\n",
       "  Unnamed: 3 Unnamed: 4  \n",
       "0        NaN        NaN  \n",
       "1        NaN        NaN  \n",
       "2        NaN        NaN  \n",
       "3        NaN        NaN  \n",
       "4        NaN        NaN  "
      ]
     },
     "execution_count": 39,
     "metadata": {},
     "output_type": "execute_result"
    }
   ],
   "source": [
    "data = pd.read_csv(\"./spam-dataset.csv\", encoding= 'latin-1')\n",
    "data.head()"
   ]
  },
  {
   "cell_type": "markdown",
   "id": "81f10ed2",
   "metadata": {},
   "source": [
    "## Verify dataset is correctly labeled"
   ]
  },
  {
   "cell_type": "code",
   "execution_count": 43,
   "id": "19bb1075",
   "metadata": {},
   "outputs": [
    {
     "name": "stdout",
     "output_type": "stream",
     "text": [
      "2     Free entry in 2 a wkly comp to win FA Cup fina...\n",
      "5     FreeMsg Hey there darling it's been 3 week's n...\n",
      "8     WINNER!! As a valued network customer you have...\n",
      "9     Had your mobile 11 months or more? U R entitle...\n",
      "11    SIX chances to win CASH! From 100 to 20,000 po...\n",
      "Name: message, dtype: object\n",
      "0    Go until jurong point, crazy.. Available only ...\n",
      "1                        Ok lar... Joking wif u oni...\n",
      "3    U dun say so early hor... U c already then say...\n",
      "4    Nah I don't think he goes to usf, he lives aro...\n",
      "6    Even my brother is not like to speak with me. ...\n",
      "Name: message, dtype: object\n"
     ]
    }
   ],
   "source": [
    "print(data[data['class'] == 'spam'].head()['message'])\n",
    "print(data[data['class'] == 'ham'].head()['message'])"
   ]
  },
  {
   "cell_type": "markdown",
   "id": "abf0f051",
   "metadata": {},
   "source": [
    "## Set Feature as 'x' and Label as 'y'"
   ]
  },
  {
   "cell_type": "code",
   "execution_count": 13,
   "id": "2d2bcdfa",
   "metadata": {},
   "outputs": [],
   "source": [
    "x = np.array(data[\"message\"])\n",
    "y = np.array(data[\"class\"])"
   ]
  },
  {
   "cell_type": "markdown",
   "id": "f0302b3f",
   "metadata": {},
   "source": [
    "## Using CountVectorizer to Vectorize Input Feature Texts"
   ]
  },
  {
   "cell_type": "code",
   "execution_count": 14,
   "id": "58a578c8",
   "metadata": {},
   "outputs": [],
   "source": [
    "cv = CountVectorizer()\n",
    "X = cv.fit_transform(x)"
   ]
  },
  {
   "cell_type": "markdown",
   "id": "8cfa4256",
   "metadata": {},
   "source": [
    "## Split Vectorized Dataset and Fit to Model"
   ]
  },
  {
   "cell_type": "code",
   "execution_count": 15,
   "id": "118646b6",
   "metadata": {},
   "outputs": [
    {
     "data": {
      "text/plain": [
       "MultinomialNB()"
      ]
     },
     "execution_count": 15,
     "metadata": {},
     "output_type": "execute_result"
    }
   ],
   "source": [
    "X_train, X_test, y_train, y_test = train_test_split(X, y, test_size=0.33, random_state=42)\n",
    "model = MultinomialNB()\n",
    "model.fit(X_train,y_train)"
   ]
  },
  {
   "cell_type": "markdown",
   "id": "d46bc070",
   "metadata": {},
   "source": [
    "## Export CountVectorizer and Model"
   ]
  },
  {
   "cell_type": "code",
   "execution_count": 11,
   "id": "91e7fba3",
   "metadata": {},
   "outputs": [],
   "source": [
    "pickle.dump(cv, open(\"./cv.pickle\", \"wb\"))\n",
    "pickle.dump(model, open(f'./spam-detection-model.sav', 'wb'))"
   ]
  },
  {
   "cell_type": "markdown",
   "id": "08ee52ad",
   "metadata": {},
   "source": [
    "## Import CountVectorizer and Model From Saved Files"
   ]
  },
  {
   "cell_type": "code",
   "execution_count": 18,
   "id": "f884d7d0",
   "metadata": {},
   "outputs": [],
   "source": [
    "cv = pickle.load(open(f'./cv.pickle', 'rb'))\n",
    "model = pickle.load(open(f'./spam-detection-model.sav', 'rb'))"
   ]
  },
  {
   "cell_type": "markdown",
   "id": "cf1ba672",
   "metadata": {},
   "source": [
    "## Test Model with Sample Text"
   ]
  },
  {
   "cell_type": "markdown",
   "id": "a08de2e8",
   "metadata": {},
   "source": [
    "### Non-spam Text Example"
   ]
  },
  {
   "cell_type": "code",
   "execution_count": 35,
   "id": "ab617571",
   "metadata": {},
   "outputs": [
    {
     "name": "stdout",
     "output_type": "stream",
     "text": [
      "['ham']\n"
     ]
    }
   ],
   "source": [
    "text = \"\"\"\n",
    "FREE DONATION GIVEAWAY\n",
    "Need gone\n",
    "works good\n",
    "Just smashed on the back other then that it’s works completely fine\n",
    "Open sim\n",
    "£80-100\"\"\"\n",
    "text = text.replace('\\n',' ')\n",
    "\n",
    "vectorised_input = cv.transform([text]).toarray()\n",
    "print(model.predict(vectorised_input))"
   ]
  },
  {
   "cell_type": "code",
   "execution_count": 62,
   "id": "bde4476d",
   "metadata": {},
   "outputs": [
    {
     "name": "stdout",
     "output_type": "stream",
     "text": [
      "['ham']\n"
     ]
    }
   ],
   "source": [
    "text = \"\"\"Garden items for free works just fine\n",
    "Small drawers\n",
    "39/40, height 61cm\"\"\"\n",
    "text = text.replace('\\n',' ')\n",
    "\n",
    "vectorised_input = cv.transform([text]).toarray()\n",
    "print(model.predict(vectorised_input))"
   ]
  },
  {
   "cell_type": "markdown",
   "id": "f2205f74",
   "metadata": {},
   "source": [
    "### Spam Text Example"
   ]
  },
  {
   "cell_type": "code",
   "execution_count": 40,
   "id": "fbb9a28a",
   "metadata": {},
   "outputs": [
    {
     "name": "stdout",
     "output_type": "stream",
     "text": [
      "['spam']\n"
     ]
    }
   ],
   "source": [
    "text = \"\"\"\n",
    "FREE GIVEAWAY\n",
    "Call 070239381 CODE FREENOW\n",
    "If you sign up now you will win a 1000$ prize GUARANTEED. \n",
    "\"\"\"\n",
    "text = text.replace('\\n',' ')\n",
    "\n",
    "vectorised_input = cv.transform([text]).toarray()\n",
    "print(model.predict(vectorised_input))"
   ]
  }
 ],
 "metadata": {
  "kernelspec": {
   "display_name": "Python 3 (ipykernel)",
   "language": "python",
   "name": "python3"
  },
  "language_info": {
   "codemirror_mode": {
    "name": "ipython",
    "version": 3
   },
   "file_extension": ".py",
   "mimetype": "text/x-python",
   "name": "python",
   "nbconvert_exporter": "python",
   "pygments_lexer": "ipython3",
   "version": "3.8.13"
  }
 },
 "nbformat": 4,
 "nbformat_minor": 5
}
